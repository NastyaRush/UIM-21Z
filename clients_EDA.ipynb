{
  "nbformat": 4,
  "nbformat_minor": 0,
  "metadata": {
    "colab": {
      "provenance": []
    },
    "kernelspec": {
      "name": "python3",
      "display_name": "Python 3"
    },
    "language_info": {
      "name": "python"
    }
  },
  "cells": [
    {
      "cell_type": "markdown",
      "source": [
        "Task: “Apparently, the longer the customer browses our offer, the more often he buys something. If this is true, the sooner we find out that such a person is browsing our website, the better – consultants can then suggest something via chat.”\n",
        "\n",
        "Definition of a business problem: determine which customers of a given online store need consultation."
      ],
      "metadata": {
        "id": "guSfNCOPMFpT"
      }
    },
    {
      "cell_type": "code",
      "execution_count": 56,
      "metadata": {
        "colab": {
          "base_uri": "https://localhost:8080/"
        },
        "id": "NXzkk1vyAYkE",
        "outputId": "f22ef688-9999-4284-dd39-aec7892e606a"
      },
      "outputs": [
        {
          "output_type": "stream",
          "name": "stdout",
          "text": [
            "Cloning into 'UIM-21Z'...\n",
            "remote: Enumerating objects: 49, done.\u001b[K\n",
            "remote: Counting objects: 100% (49/49), done.\u001b[K\n",
            "remote: Compressing objects: 100% (39/39), done.\u001b[K\n",
            "remote: Total 49 (delta 11), reused 32 (delta 5), pack-reused 0\u001b[K\n",
            "Unpacking objects: 100% (49/49), done.\n",
            "deliveries.jsonl  products.jsonl  sessions.jsonl  UIM-21Z  users.jsonl\n",
            "/content/UIM-21Z/data/raw/UIM-21Z/data/raw\n",
            "deliveries.jsonl  products.jsonl  sessions.jsonl  users.jsonl\n"
          ]
        }
      ],
      "source": [
        "# download data from GitHub repository\n",
        "!git clone https://github.com/NastyaRush/UIM-21Z.git\n",
        "!ls\n",
        "%cd UIM-21Z/data/raw\n",
        "!ls"
      ]
    },
    {
      "cell_type": "code",
      "source": [
        "# import libraries\n",
        "import pandas as pd\n",
        "import matplotlib.pyplot as plt\n",
        "import numpy as np\n",
        "import seaborn as sns\n",
        "import random\n",
        "sns.set();"
      ],
      "metadata": {
        "id": "s8_XxTaLAiiC"
      },
      "execution_count": 57,
      "outputs": []
    },
    {
      "cell_type": "code",
      "source": [
        "# load data from files\n",
        "df_products = pd.read_json('products.jsonl', lines=True)\n",
        "df_sessions = pd.read_json('sessions.jsonl', lines=True)\n",
        "df_users = pd.read_json('users.jsonl', lines=True)"
      ],
      "metadata": {
        "id": "dxbAP1aqAoK6"
      },
      "execution_count": 58,
      "outputs": []
    },
    {
      "cell_type": "markdown",
      "source": [
        "In the \"deliveries\" file there is no data that will help in solving a given problem, so it has not been loaded."
      ],
      "metadata": {
        "id": "fJUJJnKXNi78"
      }
    },
    {
      "cell_type": "code",
      "source": [
        "# info about products\n",
        "df_products.info()"
      ],
      "metadata": {
        "colab": {
          "base_uri": "https://localhost:8080/"
        },
        "id": "tvx51JTMApaD",
        "outputId": "2a2643af-4993-48b2-df63-6250dd301a38"
      },
      "execution_count": 59,
      "outputs": [
        {
          "output_type": "stream",
          "name": "stdout",
          "text": [
            "<class 'pandas.core.frame.DataFrame'>\n",
            "RangeIndex: 319 entries, 0 to 318\n",
            "Data columns (total 4 columns):\n",
            " #   Column         Non-Null Count  Dtype  \n",
            "---  ------         --------------  -----  \n",
            " 0   product_id     319 non-null    int64  \n",
            " 1   product_name   319 non-null    object \n",
            " 2   category_path  319 non-null    object \n",
            " 3   price          319 non-null    float64\n",
            "dtypes: float64(1), int64(1), object(2)\n",
            "memory usage: 10.1+ KB\n"
          ]
        }
      ]
    },
    {
      "cell_type": "code",
      "source": [
        "# info about users\n",
        "df_users.info()"
      ],
      "metadata": {
        "colab": {
          "base_uri": "https://localhost:8080/"
        },
        "id": "suKZsajJAv16",
        "outputId": "66b25e46-c4c9-47c9-9f95-49e2037a2b14"
      },
      "execution_count": 60,
      "outputs": [
        {
          "output_type": "stream",
          "name": "stdout",
          "text": [
            "<class 'pandas.core.frame.DataFrame'>\n",
            "RangeIndex: 200 entries, 0 to 199\n",
            "Data columns (total 4 columns):\n",
            " #   Column   Non-Null Count  Dtype \n",
            "---  ------   --------------  ----- \n",
            " 0   user_id  200 non-null    int64 \n",
            " 1   name     200 non-null    object\n",
            " 2   city     200 non-null    object\n",
            " 3   street   200 non-null    object\n",
            "dtypes: int64(1), object(3)\n",
            "memory usage: 6.4+ KB\n"
          ]
        }
      ]
    },
    {
      "cell_type": "code",
      "source": [
        "# info about sessions\n",
        "df_sessions.info()"
      ],
      "metadata": {
        "colab": {
          "base_uri": "https://localhost:8080/"
        },
        "id": "WKGfPf2GAw1n",
        "outputId": "92f33c91-cd87-4755-a800-911edca72464"
      },
      "execution_count": 61,
      "outputs": [
        {
          "output_type": "stream",
          "name": "stdout",
          "text": [
            "<class 'pandas.core.frame.DataFrame'>\n",
            "RangeIndex: 56190 entries, 0 to 56189\n",
            "Data columns (total 7 columns):\n",
            " #   Column            Non-Null Count  Dtype         \n",
            "---  ------            --------------  -----         \n",
            " 0   session_id        56190 non-null  int64         \n",
            " 1   timestamp         56190 non-null  datetime64[ns]\n",
            " 2   user_id           56190 non-null  int64         \n",
            " 3   product_id        56190 non-null  int64         \n",
            " 4   event_type        56190 non-null  object        \n",
            " 5   offered_discount  56190 non-null  int64         \n",
            " 6   purchase_id       3935 non-null   float64       \n",
            "dtypes: datetime64[ns](1), float64(1), int64(4), object(1)\n",
            "memory usage: 3.0+ MB\n"
          ]
        }
      ]
    },
    {
      "cell_type": "markdown",
      "source": [
        "There are null values ​​in the user_id, product_id and purchase_id columns. The purchase_id column will not be used for data analysis or modeling, so there is no need to do anything with missing values ​​in this column. Some null values ​​in the user_id column can be supplemented with values ​​from the session_id column because for the same session_id there will be the same user_id value. However, the gaps in the product_id column cannot be filled."
      ],
      "metadata": {
        "id": "r9R4UGxZ8CxG"
      }
    },
    {
      "cell_type": "code",
      "source": [
        "# before supplementing 'user_id'\n",
        "df_sessions['user_id'].isnull().value_counts()\n",
        "# True : represents the null values count\n",
        "# False : represent the non-null values count"
      ],
      "metadata": {
        "colab": {
          "base_uri": "https://localhost:8080/"
        },
        "id": "riaBQSz0nhje",
        "outputId": "77a20ff0-e3d4-45a6-ef88-abf65560a2d2"
      },
      "execution_count": 62,
      "outputs": [
        {
          "output_type": "execute_result",
          "data": {
            "text/plain": [
              "False    56190\n",
              "Name: user_id, dtype: int64"
            ]
          },
          "metadata": {},
          "execution_count": 62
        }
      ]
    },
    {
      "cell_type": "code",
      "source": [
        "# https://stackoverflow.com/questions/69004118/how-to-fill-missing-values-with-corresponding-values-from-other-rows\n",
        "# create a dictionary that contains all session IDs and corresponding user IDs\n",
        "users_sessions = df_sessions[['session_id', 'user_id', 'timestamp']].dropna().drop_duplicates()\n",
        "df_sessions_updated = df_sessions[['session_id', 'product_id', 'event_type', 'offered_discount', 'purchase_id']].merge(users_sessions, 'left')\n",
        "users_sessions"
      ],
      "metadata": {
        "colab": {
          "base_uri": "https://localhost:8080/",
          "height": 424
        },
        "id": "EFRt3cDX2uaU",
        "outputId": "316c7c70-9ba3-4afb-9cc5-1b859dd6006e"
      },
      "execution_count": 63,
      "outputs": [
        {
          "output_type": "execute_result",
          "data": {
            "text/plain": [
              "       session_id  user_id           timestamp\n",
              "0             124      102 2022-01-01 08:11:10\n",
              "1             124      102 2022-01-01 08:13:51\n",
              "2             124      102 2022-01-01 08:17:23\n",
              "3             124      102 2022-01-01 08:19:22\n",
              "4             124      102 2022-01-01 08:19:50\n",
              "...           ...      ...                 ...\n",
              "56185        9166      301 2022-01-04 17:20:23\n",
              "56186        9166      301 2022-01-04 17:25:01\n",
              "56187        9166      301 2022-01-04 17:26:45\n",
              "56188        9166      301 2022-01-04 17:27:28\n",
              "56189        9166      301 2022-01-04 17:29:09\n",
              "\n",
              "[56190 rows x 3 columns]"
            ],
            "text/html": [
              "\n",
              "  <div id=\"df-8531fa3c-51cc-4af4-aa6b-5549cf63e0f5\">\n",
              "    <div class=\"colab-df-container\">\n",
              "      <div>\n",
              "<style scoped>\n",
              "    .dataframe tbody tr th:only-of-type {\n",
              "        vertical-align: middle;\n",
              "    }\n",
              "\n",
              "    .dataframe tbody tr th {\n",
              "        vertical-align: top;\n",
              "    }\n",
              "\n",
              "    .dataframe thead th {\n",
              "        text-align: right;\n",
              "    }\n",
              "</style>\n",
              "<table border=\"1\" class=\"dataframe\">\n",
              "  <thead>\n",
              "    <tr style=\"text-align: right;\">\n",
              "      <th></th>\n",
              "      <th>session_id</th>\n",
              "      <th>user_id</th>\n",
              "      <th>timestamp</th>\n",
              "    </tr>\n",
              "  </thead>\n",
              "  <tbody>\n",
              "    <tr>\n",
              "      <th>0</th>\n",
              "      <td>124</td>\n",
              "      <td>102</td>\n",
              "      <td>2022-01-01 08:11:10</td>\n",
              "    </tr>\n",
              "    <tr>\n",
              "      <th>1</th>\n",
              "      <td>124</td>\n",
              "      <td>102</td>\n",
              "      <td>2022-01-01 08:13:51</td>\n",
              "    </tr>\n",
              "    <tr>\n",
              "      <th>2</th>\n",
              "      <td>124</td>\n",
              "      <td>102</td>\n",
              "      <td>2022-01-01 08:17:23</td>\n",
              "    </tr>\n",
              "    <tr>\n",
              "      <th>3</th>\n",
              "      <td>124</td>\n",
              "      <td>102</td>\n",
              "      <td>2022-01-01 08:19:22</td>\n",
              "    </tr>\n",
              "    <tr>\n",
              "      <th>4</th>\n",
              "      <td>124</td>\n",
              "      <td>102</td>\n",
              "      <td>2022-01-01 08:19:50</td>\n",
              "    </tr>\n",
              "    <tr>\n",
              "      <th>...</th>\n",
              "      <td>...</td>\n",
              "      <td>...</td>\n",
              "      <td>...</td>\n",
              "    </tr>\n",
              "    <tr>\n",
              "      <th>56185</th>\n",
              "      <td>9166</td>\n",
              "      <td>301</td>\n",
              "      <td>2022-01-04 17:20:23</td>\n",
              "    </tr>\n",
              "    <tr>\n",
              "      <th>56186</th>\n",
              "      <td>9166</td>\n",
              "      <td>301</td>\n",
              "      <td>2022-01-04 17:25:01</td>\n",
              "    </tr>\n",
              "    <tr>\n",
              "      <th>56187</th>\n",
              "      <td>9166</td>\n",
              "      <td>301</td>\n",
              "      <td>2022-01-04 17:26:45</td>\n",
              "    </tr>\n",
              "    <tr>\n",
              "      <th>56188</th>\n",
              "      <td>9166</td>\n",
              "      <td>301</td>\n",
              "      <td>2022-01-04 17:27:28</td>\n",
              "    </tr>\n",
              "    <tr>\n",
              "      <th>56189</th>\n",
              "      <td>9166</td>\n",
              "      <td>301</td>\n",
              "      <td>2022-01-04 17:29:09</td>\n",
              "    </tr>\n",
              "  </tbody>\n",
              "</table>\n",
              "<p>56190 rows × 3 columns</p>\n",
              "</div>\n",
              "      <button class=\"colab-df-convert\" onclick=\"convertToInteractive('df-8531fa3c-51cc-4af4-aa6b-5549cf63e0f5')\"\n",
              "              title=\"Convert this dataframe to an interactive table.\"\n",
              "              style=\"display:none;\">\n",
              "        \n",
              "  <svg xmlns=\"http://www.w3.org/2000/svg\" height=\"24px\"viewBox=\"0 0 24 24\"\n",
              "       width=\"24px\">\n",
              "    <path d=\"M0 0h24v24H0V0z\" fill=\"none\"/>\n",
              "    <path d=\"M18.56 5.44l.94 2.06.94-2.06 2.06-.94-2.06-.94-.94-2.06-.94 2.06-2.06.94zm-11 1L8.5 8.5l.94-2.06 2.06-.94-2.06-.94L8.5 2.5l-.94 2.06-2.06.94zm10 10l.94 2.06.94-2.06 2.06-.94-2.06-.94-.94-2.06-.94 2.06-2.06.94z\"/><path d=\"M17.41 7.96l-1.37-1.37c-.4-.4-.92-.59-1.43-.59-.52 0-1.04.2-1.43.59L10.3 9.45l-7.72 7.72c-.78.78-.78 2.05 0 2.83L4 21.41c.39.39.9.59 1.41.59.51 0 1.02-.2 1.41-.59l7.78-7.78 2.81-2.81c.8-.78.8-2.07 0-2.86zM5.41 20L4 18.59l7.72-7.72 1.47 1.35L5.41 20z\"/>\n",
              "  </svg>\n",
              "      </button>\n",
              "      \n",
              "  <style>\n",
              "    .colab-df-container {\n",
              "      display:flex;\n",
              "      flex-wrap:wrap;\n",
              "      gap: 12px;\n",
              "    }\n",
              "\n",
              "    .colab-df-convert {\n",
              "      background-color: #E8F0FE;\n",
              "      border: none;\n",
              "      border-radius: 50%;\n",
              "      cursor: pointer;\n",
              "      display: none;\n",
              "      fill: #1967D2;\n",
              "      height: 32px;\n",
              "      padding: 0 0 0 0;\n",
              "      width: 32px;\n",
              "    }\n",
              "\n",
              "    .colab-df-convert:hover {\n",
              "      background-color: #E2EBFA;\n",
              "      box-shadow: 0px 1px 2px rgba(60, 64, 67, 0.3), 0px 1px 3px 1px rgba(60, 64, 67, 0.15);\n",
              "      fill: #174EA6;\n",
              "    }\n",
              "\n",
              "    [theme=dark] .colab-df-convert {\n",
              "      background-color: #3B4455;\n",
              "      fill: #D2E3FC;\n",
              "    }\n",
              "\n",
              "    [theme=dark] .colab-df-convert:hover {\n",
              "      background-color: #434B5C;\n",
              "      box-shadow: 0px 1px 3px 1px rgba(0, 0, 0, 0.15);\n",
              "      filter: drop-shadow(0px 1px 2px rgba(0, 0, 0, 0.3));\n",
              "      fill: #FFFFFF;\n",
              "    }\n",
              "  </style>\n",
              "\n",
              "      <script>\n",
              "        const buttonEl =\n",
              "          document.querySelector('#df-8531fa3c-51cc-4af4-aa6b-5549cf63e0f5 button.colab-df-convert');\n",
              "        buttonEl.style.display =\n",
              "          google.colab.kernel.accessAllowed ? 'block' : 'none';\n",
              "\n",
              "        async function convertToInteractive(key) {\n",
              "          const element = document.querySelector('#df-8531fa3c-51cc-4af4-aa6b-5549cf63e0f5');\n",
              "          const dataTable =\n",
              "            await google.colab.kernel.invokeFunction('convertToInteractive',\n",
              "                                                     [key], {});\n",
              "          if (!dataTable) return;\n",
              "\n",
              "          const docLinkHtml = 'Like what you see? Visit the ' +\n",
              "            '<a target=\"_blank\" href=https://colab.research.google.com/notebooks/data_table.ipynb>data table notebook</a>'\n",
              "            + ' to learn more about interactive tables.';\n",
              "          element.innerHTML = '';\n",
              "          dataTable['output_type'] = 'display_data';\n",
              "          await google.colab.output.renderOutput(dataTable, element);\n",
              "          const docLink = document.createElement('div');\n",
              "          docLink.innerHTML = docLinkHtml;\n",
              "          element.appendChild(docLink);\n",
              "        }\n",
              "      </script>\n",
              "    </div>\n",
              "  </div>\n",
              "  "
            ]
          },
          "metadata": {},
          "execution_count": 63
        }
      ]
    },
    {
      "cell_type": "code",
      "source": [
        "# https://stackoverflow.com/questions/34537048/how-to-count-nan-values-in-a-pandas-dataframe\n",
        "# after supplementing 'user_id'\n",
        "df_sessions_updated['user_id'].isnull().value_counts()\n",
        "# True : represents the null values count\n",
        "# False : represent the non-null values count"
      ],
      "metadata": {
        "colab": {
          "base_uri": "https://localhost:8080/"
        },
        "id": "2j0MCRfotXzV",
        "outputId": "1e4906bd-2909-4906-a809-1b667eda7689"
      },
      "execution_count": 64,
      "outputs": [
        {
          "output_type": "execute_result",
          "data": {
            "text/plain": [
              "False    536470\n",
              "Name: user_id, dtype: int64"
            ]
          },
          "metadata": {},
          "execution_count": 64
        }
      ]
    },
    {
      "cell_type": "code",
      "source": [
        "# https://stackoverflow.com/questions/13413590/how-to-drop-rows-of-pandas-dataframe-whose-value-in-a-certain-column-is-nan\n",
        "# removing rows with null user_id\n",
        "df_sessions_updated = df_sessions_updated[df_sessions_updated['user_id'].notna()]\n",
        "df_sessions_updated['user_id'].isnull().value_counts()"
      ],
      "metadata": {
        "colab": {
          "base_uri": "https://localhost:8080/"
        },
        "id": "Rcc3xINQYxsp",
        "outputId": "88f21894-307d-4a58-f4d7-c5d9ca9afeea"
      },
      "execution_count": 65,
      "outputs": [
        {
          "output_type": "execute_result",
          "data": {
            "text/plain": [
              "False    536470\n",
              "Name: user_id, dtype: int64"
            ]
          },
          "metadata": {},
          "execution_count": 65
        }
      ]
    },
    {
      "cell_type": "markdown",
      "source": [
        "Basing on the avaible customers data, two suggestions can be made:\n",
        "\n",
        "1) the number of purchases is related to the amount of time that customers spent on the site\n",
        "\n",
        "2) the number of purchases is related to the customer's city"
      ],
      "metadata": {
        "id": "GKOYYM4K_CUr"
      }
    },
    {
      "cell_type": "code",
      "source": [
        "# count number of purchase actions for each client\n",
        "buy = df_sessions_updated.groupby('user_id')['event_type'].apply(lambda x: x[x == 'BUY_PRODUCT'].count())\n",
        "df_buy = buy.to_frame().reset_index()\n",
        "df_buy = df_buy.rename(columns={\"event_type\": \"purchases_num\"})\n",
        "df_buy"
      ],
      "metadata": {
        "id": "7ITQMikbNpaZ",
        "colab": {
          "base_uri": "https://localhost:8080/",
          "height": 424
        },
        "outputId": "2df2fa7f-6926-4c6b-b3c4-d3b9d0e114e4"
      },
      "execution_count": 66,
      "outputs": [
        {
          "output_type": "execute_result",
          "data": {
            "text/plain": [
              "     user_id  purchases_num\n",
              "0        102             83\n",
              "1        103            196\n",
              "2        104            155\n",
              "3        105             28\n",
              "4        106             25\n",
              "..       ...            ...\n",
              "195      297             42\n",
              "196      298            231\n",
              "197      299             13\n",
              "198      300             22\n",
              "199      301            147\n",
              "\n",
              "[200 rows x 2 columns]"
            ],
            "text/html": [
              "\n",
              "  <div id=\"df-c6b40936-aa8b-4956-a034-b0caea013688\">\n",
              "    <div class=\"colab-df-container\">\n",
              "      <div>\n",
              "<style scoped>\n",
              "    .dataframe tbody tr th:only-of-type {\n",
              "        vertical-align: middle;\n",
              "    }\n",
              "\n",
              "    .dataframe tbody tr th {\n",
              "        vertical-align: top;\n",
              "    }\n",
              "\n",
              "    .dataframe thead th {\n",
              "        text-align: right;\n",
              "    }\n",
              "</style>\n",
              "<table border=\"1\" class=\"dataframe\">\n",
              "  <thead>\n",
              "    <tr style=\"text-align: right;\">\n",
              "      <th></th>\n",
              "      <th>user_id</th>\n",
              "      <th>purchases_num</th>\n",
              "    </tr>\n",
              "  </thead>\n",
              "  <tbody>\n",
              "    <tr>\n",
              "      <th>0</th>\n",
              "      <td>102</td>\n",
              "      <td>83</td>\n",
              "    </tr>\n",
              "    <tr>\n",
              "      <th>1</th>\n",
              "      <td>103</td>\n",
              "      <td>196</td>\n",
              "    </tr>\n",
              "    <tr>\n",
              "      <th>2</th>\n",
              "      <td>104</td>\n",
              "      <td>155</td>\n",
              "    </tr>\n",
              "    <tr>\n",
              "      <th>3</th>\n",
              "      <td>105</td>\n",
              "      <td>28</td>\n",
              "    </tr>\n",
              "    <tr>\n",
              "      <th>4</th>\n",
              "      <td>106</td>\n",
              "      <td>25</td>\n",
              "    </tr>\n",
              "    <tr>\n",
              "      <th>...</th>\n",
              "      <td>...</td>\n",
              "      <td>...</td>\n",
              "    </tr>\n",
              "    <tr>\n",
              "      <th>195</th>\n",
              "      <td>297</td>\n",
              "      <td>42</td>\n",
              "    </tr>\n",
              "    <tr>\n",
              "      <th>196</th>\n",
              "      <td>298</td>\n",
              "      <td>231</td>\n",
              "    </tr>\n",
              "    <tr>\n",
              "      <th>197</th>\n",
              "      <td>299</td>\n",
              "      <td>13</td>\n",
              "    </tr>\n",
              "    <tr>\n",
              "      <th>198</th>\n",
              "      <td>300</td>\n",
              "      <td>22</td>\n",
              "    </tr>\n",
              "    <tr>\n",
              "      <th>199</th>\n",
              "      <td>301</td>\n",
              "      <td>147</td>\n",
              "    </tr>\n",
              "  </tbody>\n",
              "</table>\n",
              "<p>200 rows × 2 columns</p>\n",
              "</div>\n",
              "      <button class=\"colab-df-convert\" onclick=\"convertToInteractive('df-c6b40936-aa8b-4956-a034-b0caea013688')\"\n",
              "              title=\"Convert this dataframe to an interactive table.\"\n",
              "              style=\"display:none;\">\n",
              "        \n",
              "  <svg xmlns=\"http://www.w3.org/2000/svg\" height=\"24px\"viewBox=\"0 0 24 24\"\n",
              "       width=\"24px\">\n",
              "    <path d=\"M0 0h24v24H0V0z\" fill=\"none\"/>\n",
              "    <path d=\"M18.56 5.44l.94 2.06.94-2.06 2.06-.94-2.06-.94-.94-2.06-.94 2.06-2.06.94zm-11 1L8.5 8.5l.94-2.06 2.06-.94-2.06-.94L8.5 2.5l-.94 2.06-2.06.94zm10 10l.94 2.06.94-2.06 2.06-.94-2.06-.94-.94-2.06-.94 2.06-2.06.94z\"/><path d=\"M17.41 7.96l-1.37-1.37c-.4-.4-.92-.59-1.43-.59-.52 0-1.04.2-1.43.59L10.3 9.45l-7.72 7.72c-.78.78-.78 2.05 0 2.83L4 21.41c.39.39.9.59 1.41.59.51 0 1.02-.2 1.41-.59l7.78-7.78 2.81-2.81c.8-.78.8-2.07 0-2.86zM5.41 20L4 18.59l7.72-7.72 1.47 1.35L5.41 20z\"/>\n",
              "  </svg>\n",
              "      </button>\n",
              "      \n",
              "  <style>\n",
              "    .colab-df-container {\n",
              "      display:flex;\n",
              "      flex-wrap:wrap;\n",
              "      gap: 12px;\n",
              "    }\n",
              "\n",
              "    .colab-df-convert {\n",
              "      background-color: #E8F0FE;\n",
              "      border: none;\n",
              "      border-radius: 50%;\n",
              "      cursor: pointer;\n",
              "      display: none;\n",
              "      fill: #1967D2;\n",
              "      height: 32px;\n",
              "      padding: 0 0 0 0;\n",
              "      width: 32px;\n",
              "    }\n",
              "\n",
              "    .colab-df-convert:hover {\n",
              "      background-color: #E2EBFA;\n",
              "      box-shadow: 0px 1px 2px rgba(60, 64, 67, 0.3), 0px 1px 3px 1px rgba(60, 64, 67, 0.15);\n",
              "      fill: #174EA6;\n",
              "    }\n",
              "\n",
              "    [theme=dark] .colab-df-convert {\n",
              "      background-color: #3B4455;\n",
              "      fill: #D2E3FC;\n",
              "    }\n",
              "\n",
              "    [theme=dark] .colab-df-convert:hover {\n",
              "      background-color: #434B5C;\n",
              "      box-shadow: 0px 1px 3px 1px rgba(0, 0, 0, 0.15);\n",
              "      filter: drop-shadow(0px 1px 2px rgba(0, 0, 0, 0.3));\n",
              "      fill: #FFFFFF;\n",
              "    }\n",
              "  </style>\n",
              "\n",
              "      <script>\n",
              "        const buttonEl =\n",
              "          document.querySelector('#df-c6b40936-aa8b-4956-a034-b0caea013688 button.colab-df-convert');\n",
              "        buttonEl.style.display =\n",
              "          google.colab.kernel.accessAllowed ? 'block' : 'none';\n",
              "\n",
              "        async function convertToInteractive(key) {\n",
              "          const element = document.querySelector('#df-c6b40936-aa8b-4956-a034-b0caea013688');\n",
              "          const dataTable =\n",
              "            await google.colab.kernel.invokeFunction('convertToInteractive',\n",
              "                                                     [key], {});\n",
              "          if (!dataTable) return;\n",
              "\n",
              "          const docLinkHtml = 'Like what you see? Visit the ' +\n",
              "            '<a target=\"_blank\" href=https://colab.research.google.com/notebooks/data_table.ipynb>data table notebook</a>'\n",
              "            + ' to learn more about interactive tables.';\n",
              "          element.innerHTML = '';\n",
              "          dataTable['output_type'] = 'display_data';\n",
              "          await google.colab.output.renderOutput(dataTable, element);\n",
              "          const docLink = document.createElement('div');\n",
              "          docLink.innerHTML = docLinkHtml;\n",
              "          element.appendChild(docLink);\n",
              "        }\n",
              "      </script>\n",
              "    </div>\n",
              "  </div>\n",
              "  "
            ]
          },
          "metadata": {},
          "execution_count": 66
        }
      ]
    },
    {
      "cell_type": "code",
      "source": [
        "# https://stackoverflow.com/questions/16777570/calculate-time-difference-between-pandas-dataframe-indices\n",
        "# time intervals between actions in individual sessions\n",
        "users_sessions[\"timestamp_diff\"] = users_sessions.groupby('session_id')[\"timestamp\"].diff().apply(lambda x: x/np.timedelta64(1, 's')).fillna(0).astype('int64')\n",
        "users_sessions"
      ],
      "metadata": {
        "colab": {
          "base_uri": "https://localhost:8080/",
          "height": 424
        },
        "id": "hAwa_gfo6ohd",
        "outputId": "61f07247-d3b6-4d02-c537-7e2da0fa9512"
      },
      "execution_count": 67,
      "outputs": [
        {
          "output_type": "execute_result",
          "data": {
            "text/plain": [
              "       session_id  user_id           timestamp  timestamp_diff\n",
              "0             124      102 2022-01-01 08:11:10               0\n",
              "1             124      102 2022-01-01 08:13:51             161\n",
              "2             124      102 2022-01-01 08:17:23             212\n",
              "3             124      102 2022-01-01 08:19:22             119\n",
              "4             124      102 2022-01-01 08:19:50              28\n",
              "...           ...      ...                 ...             ...\n",
              "56185        9166      301 2022-01-04 17:20:23             245\n",
              "56186        9166      301 2022-01-04 17:25:01             278\n",
              "56187        9166      301 2022-01-04 17:26:45             104\n",
              "56188        9166      301 2022-01-04 17:27:28              43\n",
              "56189        9166      301 2022-01-04 17:29:09             101\n",
              "\n",
              "[56190 rows x 4 columns]"
            ],
            "text/html": [
              "\n",
              "  <div id=\"df-bd669b70-81bb-4aa7-9963-17b6bacf5c27\">\n",
              "    <div class=\"colab-df-container\">\n",
              "      <div>\n",
              "<style scoped>\n",
              "    .dataframe tbody tr th:only-of-type {\n",
              "        vertical-align: middle;\n",
              "    }\n",
              "\n",
              "    .dataframe tbody tr th {\n",
              "        vertical-align: top;\n",
              "    }\n",
              "\n",
              "    .dataframe thead th {\n",
              "        text-align: right;\n",
              "    }\n",
              "</style>\n",
              "<table border=\"1\" class=\"dataframe\">\n",
              "  <thead>\n",
              "    <tr style=\"text-align: right;\">\n",
              "      <th></th>\n",
              "      <th>session_id</th>\n",
              "      <th>user_id</th>\n",
              "      <th>timestamp</th>\n",
              "      <th>timestamp_diff</th>\n",
              "    </tr>\n",
              "  </thead>\n",
              "  <tbody>\n",
              "    <tr>\n",
              "      <th>0</th>\n",
              "      <td>124</td>\n",
              "      <td>102</td>\n",
              "      <td>2022-01-01 08:11:10</td>\n",
              "      <td>0</td>\n",
              "    </tr>\n",
              "    <tr>\n",
              "      <th>1</th>\n",
              "      <td>124</td>\n",
              "      <td>102</td>\n",
              "      <td>2022-01-01 08:13:51</td>\n",
              "      <td>161</td>\n",
              "    </tr>\n",
              "    <tr>\n",
              "      <th>2</th>\n",
              "      <td>124</td>\n",
              "      <td>102</td>\n",
              "      <td>2022-01-01 08:17:23</td>\n",
              "      <td>212</td>\n",
              "    </tr>\n",
              "    <tr>\n",
              "      <th>3</th>\n",
              "      <td>124</td>\n",
              "      <td>102</td>\n",
              "      <td>2022-01-01 08:19:22</td>\n",
              "      <td>119</td>\n",
              "    </tr>\n",
              "    <tr>\n",
              "      <th>4</th>\n",
              "      <td>124</td>\n",
              "      <td>102</td>\n",
              "      <td>2022-01-01 08:19:50</td>\n",
              "      <td>28</td>\n",
              "    </tr>\n",
              "    <tr>\n",
              "      <th>...</th>\n",
              "      <td>...</td>\n",
              "      <td>...</td>\n",
              "      <td>...</td>\n",
              "      <td>...</td>\n",
              "    </tr>\n",
              "    <tr>\n",
              "      <th>56185</th>\n",
              "      <td>9166</td>\n",
              "      <td>301</td>\n",
              "      <td>2022-01-04 17:20:23</td>\n",
              "      <td>245</td>\n",
              "    </tr>\n",
              "    <tr>\n",
              "      <th>56186</th>\n",
              "      <td>9166</td>\n",
              "      <td>301</td>\n",
              "      <td>2022-01-04 17:25:01</td>\n",
              "      <td>278</td>\n",
              "    </tr>\n",
              "    <tr>\n",
              "      <th>56187</th>\n",
              "      <td>9166</td>\n",
              "      <td>301</td>\n",
              "      <td>2022-01-04 17:26:45</td>\n",
              "      <td>104</td>\n",
              "    </tr>\n",
              "    <tr>\n",
              "      <th>56188</th>\n",
              "      <td>9166</td>\n",
              "      <td>301</td>\n",
              "      <td>2022-01-04 17:27:28</td>\n",
              "      <td>43</td>\n",
              "    </tr>\n",
              "    <tr>\n",
              "      <th>56189</th>\n",
              "      <td>9166</td>\n",
              "      <td>301</td>\n",
              "      <td>2022-01-04 17:29:09</td>\n",
              "      <td>101</td>\n",
              "    </tr>\n",
              "  </tbody>\n",
              "</table>\n",
              "<p>56190 rows × 4 columns</p>\n",
              "</div>\n",
              "      <button class=\"colab-df-convert\" onclick=\"convertToInteractive('df-bd669b70-81bb-4aa7-9963-17b6bacf5c27')\"\n",
              "              title=\"Convert this dataframe to an interactive table.\"\n",
              "              style=\"display:none;\">\n",
              "        \n",
              "  <svg xmlns=\"http://www.w3.org/2000/svg\" height=\"24px\"viewBox=\"0 0 24 24\"\n",
              "       width=\"24px\">\n",
              "    <path d=\"M0 0h24v24H0V0z\" fill=\"none\"/>\n",
              "    <path d=\"M18.56 5.44l.94 2.06.94-2.06 2.06-.94-2.06-.94-.94-2.06-.94 2.06-2.06.94zm-11 1L8.5 8.5l.94-2.06 2.06-.94-2.06-.94L8.5 2.5l-.94 2.06-2.06.94zm10 10l.94 2.06.94-2.06 2.06-.94-2.06-.94-.94-2.06-.94 2.06-2.06.94z\"/><path d=\"M17.41 7.96l-1.37-1.37c-.4-.4-.92-.59-1.43-.59-.52 0-1.04.2-1.43.59L10.3 9.45l-7.72 7.72c-.78.78-.78 2.05 0 2.83L4 21.41c.39.39.9.59 1.41.59.51 0 1.02-.2 1.41-.59l7.78-7.78 2.81-2.81c.8-.78.8-2.07 0-2.86zM5.41 20L4 18.59l7.72-7.72 1.47 1.35L5.41 20z\"/>\n",
              "  </svg>\n",
              "      </button>\n",
              "      \n",
              "  <style>\n",
              "    .colab-df-container {\n",
              "      display:flex;\n",
              "      flex-wrap:wrap;\n",
              "      gap: 12px;\n",
              "    }\n",
              "\n",
              "    .colab-df-convert {\n",
              "      background-color: #E8F0FE;\n",
              "      border: none;\n",
              "      border-radius: 50%;\n",
              "      cursor: pointer;\n",
              "      display: none;\n",
              "      fill: #1967D2;\n",
              "      height: 32px;\n",
              "      padding: 0 0 0 0;\n",
              "      width: 32px;\n",
              "    }\n",
              "\n",
              "    .colab-df-convert:hover {\n",
              "      background-color: #E2EBFA;\n",
              "      box-shadow: 0px 1px 2px rgba(60, 64, 67, 0.3), 0px 1px 3px 1px rgba(60, 64, 67, 0.15);\n",
              "      fill: #174EA6;\n",
              "    }\n",
              "\n",
              "    [theme=dark] .colab-df-convert {\n",
              "      background-color: #3B4455;\n",
              "      fill: #D2E3FC;\n",
              "    }\n",
              "\n",
              "    [theme=dark] .colab-df-convert:hover {\n",
              "      background-color: #434B5C;\n",
              "      box-shadow: 0px 1px 3px 1px rgba(0, 0, 0, 0.15);\n",
              "      filter: drop-shadow(0px 1px 2px rgba(0, 0, 0, 0.3));\n",
              "      fill: #FFFFFF;\n",
              "    }\n",
              "  </style>\n",
              "\n",
              "      <script>\n",
              "        const buttonEl =\n",
              "          document.querySelector('#df-bd669b70-81bb-4aa7-9963-17b6bacf5c27 button.colab-df-convert');\n",
              "        buttonEl.style.display =\n",
              "          google.colab.kernel.accessAllowed ? 'block' : 'none';\n",
              "\n",
              "        async function convertToInteractive(key) {\n",
              "          const element = document.querySelector('#df-bd669b70-81bb-4aa7-9963-17b6bacf5c27');\n",
              "          const dataTable =\n",
              "            await google.colab.kernel.invokeFunction('convertToInteractive',\n",
              "                                                     [key], {});\n",
              "          if (!dataTable) return;\n",
              "\n",
              "          const docLinkHtml = 'Like what you see? Visit the ' +\n",
              "            '<a target=\"_blank\" href=https://colab.research.google.com/notebooks/data_table.ipynb>data table notebook</a>'\n",
              "            + ' to learn more about interactive tables.';\n",
              "          element.innerHTML = '';\n",
              "          dataTable['output_type'] = 'display_data';\n",
              "          await google.colab.output.renderOutput(dataTable, element);\n",
              "          const docLink = document.createElement('div');\n",
              "          docLink.innerHTML = docLinkHtml;\n",
              "          element.appendChild(docLink);\n",
              "        }\n",
              "      </script>\n",
              "    </div>\n",
              "  </div>\n",
              "  "
            ]
          },
          "metadata": {},
          "execution_count": 67
        }
      ]
    },
    {
      "cell_type": "code",
      "source": [
        "# total sessions time for each user\n",
        "sessions_time = users_sessions.groupby('user_id')[\"timestamp_diff\"].sum()\n",
        "df_sessions_time = sessions_time.to_frame().reset_index()\n",
        "df_sessions_time"
      ],
      "metadata": {
        "colab": {
          "base_uri": "https://localhost:8080/",
          "height": 424
        },
        "id": "kUR-bMzoMxnV",
        "outputId": "20925020-9f85-4011-cd02-d3e8ecd35c6a"
      },
      "execution_count": 68,
      "outputs": [
        {
          "output_type": "execute_result",
          "data": {
            "text/plain": [
              "     user_id  timestamp_diff\n",
              "0        102           24237\n",
              "1        103           50914\n",
              "2        104           36293\n",
              "3        105           13059\n",
              "4        106           21665\n",
              "..       ...             ...\n",
              "195      297           13807\n",
              "196      298           68207\n",
              "197      299            3402\n",
              "198      300           11786\n",
              "199      301           31567\n",
              "\n",
              "[200 rows x 2 columns]"
            ],
            "text/html": [
              "\n",
              "  <div id=\"df-b191e0f8-5bb0-409d-be4a-87485919d941\">\n",
              "    <div class=\"colab-df-container\">\n",
              "      <div>\n",
              "<style scoped>\n",
              "    .dataframe tbody tr th:only-of-type {\n",
              "        vertical-align: middle;\n",
              "    }\n",
              "\n",
              "    .dataframe tbody tr th {\n",
              "        vertical-align: top;\n",
              "    }\n",
              "\n",
              "    .dataframe thead th {\n",
              "        text-align: right;\n",
              "    }\n",
              "</style>\n",
              "<table border=\"1\" class=\"dataframe\">\n",
              "  <thead>\n",
              "    <tr style=\"text-align: right;\">\n",
              "      <th></th>\n",
              "      <th>user_id</th>\n",
              "      <th>timestamp_diff</th>\n",
              "    </tr>\n",
              "  </thead>\n",
              "  <tbody>\n",
              "    <tr>\n",
              "      <th>0</th>\n",
              "      <td>102</td>\n",
              "      <td>24237</td>\n",
              "    </tr>\n",
              "    <tr>\n",
              "      <th>1</th>\n",
              "      <td>103</td>\n",
              "      <td>50914</td>\n",
              "    </tr>\n",
              "    <tr>\n",
              "      <th>2</th>\n",
              "      <td>104</td>\n",
              "      <td>36293</td>\n",
              "    </tr>\n",
              "    <tr>\n",
              "      <th>3</th>\n",
              "      <td>105</td>\n",
              "      <td>13059</td>\n",
              "    </tr>\n",
              "    <tr>\n",
              "      <th>4</th>\n",
              "      <td>106</td>\n",
              "      <td>21665</td>\n",
              "    </tr>\n",
              "    <tr>\n",
              "      <th>...</th>\n",
              "      <td>...</td>\n",
              "      <td>...</td>\n",
              "    </tr>\n",
              "    <tr>\n",
              "      <th>195</th>\n",
              "      <td>297</td>\n",
              "      <td>13807</td>\n",
              "    </tr>\n",
              "    <tr>\n",
              "      <th>196</th>\n",
              "      <td>298</td>\n",
              "      <td>68207</td>\n",
              "    </tr>\n",
              "    <tr>\n",
              "      <th>197</th>\n",
              "      <td>299</td>\n",
              "      <td>3402</td>\n",
              "    </tr>\n",
              "    <tr>\n",
              "      <th>198</th>\n",
              "      <td>300</td>\n",
              "      <td>11786</td>\n",
              "    </tr>\n",
              "    <tr>\n",
              "      <th>199</th>\n",
              "      <td>301</td>\n",
              "      <td>31567</td>\n",
              "    </tr>\n",
              "  </tbody>\n",
              "</table>\n",
              "<p>200 rows × 2 columns</p>\n",
              "</div>\n",
              "      <button class=\"colab-df-convert\" onclick=\"convertToInteractive('df-b191e0f8-5bb0-409d-be4a-87485919d941')\"\n",
              "              title=\"Convert this dataframe to an interactive table.\"\n",
              "              style=\"display:none;\">\n",
              "        \n",
              "  <svg xmlns=\"http://www.w3.org/2000/svg\" height=\"24px\"viewBox=\"0 0 24 24\"\n",
              "       width=\"24px\">\n",
              "    <path d=\"M0 0h24v24H0V0z\" fill=\"none\"/>\n",
              "    <path d=\"M18.56 5.44l.94 2.06.94-2.06 2.06-.94-2.06-.94-.94-2.06-.94 2.06-2.06.94zm-11 1L8.5 8.5l.94-2.06 2.06-.94-2.06-.94L8.5 2.5l-.94 2.06-2.06.94zm10 10l.94 2.06.94-2.06 2.06-.94-2.06-.94-.94-2.06-.94 2.06-2.06.94z\"/><path d=\"M17.41 7.96l-1.37-1.37c-.4-.4-.92-.59-1.43-.59-.52 0-1.04.2-1.43.59L10.3 9.45l-7.72 7.72c-.78.78-.78 2.05 0 2.83L4 21.41c.39.39.9.59 1.41.59.51 0 1.02-.2 1.41-.59l7.78-7.78 2.81-2.81c.8-.78.8-2.07 0-2.86zM5.41 20L4 18.59l7.72-7.72 1.47 1.35L5.41 20z\"/>\n",
              "  </svg>\n",
              "      </button>\n",
              "      \n",
              "  <style>\n",
              "    .colab-df-container {\n",
              "      display:flex;\n",
              "      flex-wrap:wrap;\n",
              "      gap: 12px;\n",
              "    }\n",
              "\n",
              "    .colab-df-convert {\n",
              "      background-color: #E8F0FE;\n",
              "      border: none;\n",
              "      border-radius: 50%;\n",
              "      cursor: pointer;\n",
              "      display: none;\n",
              "      fill: #1967D2;\n",
              "      height: 32px;\n",
              "      padding: 0 0 0 0;\n",
              "      width: 32px;\n",
              "    }\n",
              "\n",
              "    .colab-df-convert:hover {\n",
              "      background-color: #E2EBFA;\n",
              "      box-shadow: 0px 1px 2px rgba(60, 64, 67, 0.3), 0px 1px 3px 1px rgba(60, 64, 67, 0.15);\n",
              "      fill: #174EA6;\n",
              "    }\n",
              "\n",
              "    [theme=dark] .colab-df-convert {\n",
              "      background-color: #3B4455;\n",
              "      fill: #D2E3FC;\n",
              "    }\n",
              "\n",
              "    [theme=dark] .colab-df-convert:hover {\n",
              "      background-color: #434B5C;\n",
              "      box-shadow: 0px 1px 3px 1px rgba(0, 0, 0, 0.15);\n",
              "      filter: drop-shadow(0px 1px 2px rgba(0, 0, 0, 0.3));\n",
              "      fill: #FFFFFF;\n",
              "    }\n",
              "  </style>\n",
              "\n",
              "      <script>\n",
              "        const buttonEl =\n",
              "          document.querySelector('#df-b191e0f8-5bb0-409d-be4a-87485919d941 button.colab-df-convert');\n",
              "        buttonEl.style.display =\n",
              "          google.colab.kernel.accessAllowed ? 'block' : 'none';\n",
              "\n",
              "        async function convertToInteractive(key) {\n",
              "          const element = document.querySelector('#df-b191e0f8-5bb0-409d-be4a-87485919d941');\n",
              "          const dataTable =\n",
              "            await google.colab.kernel.invokeFunction('convertToInteractive',\n",
              "                                                     [key], {});\n",
              "          if (!dataTable) return;\n",
              "\n",
              "          const docLinkHtml = 'Like what you see? Visit the ' +\n",
              "            '<a target=\"_blank\" href=https://colab.research.google.com/notebooks/data_table.ipynb>data table notebook</a>'\n",
              "            + ' to learn more about interactive tables.';\n",
              "          element.innerHTML = '';\n",
              "          dataTable['output_type'] = 'display_data';\n",
              "          await google.colab.output.renderOutput(dataTable, element);\n",
              "          const docLink = document.createElement('div');\n",
              "          docLink.innerHTML = docLinkHtml;\n",
              "          element.appendChild(docLink);\n",
              "        }\n",
              "      </script>\n",
              "    </div>\n",
              "  </div>\n",
              "  "
            ]
          },
          "metadata": {},
          "execution_count": 68
        }
      ]
    },
    {
      "cell_type": "code",
      "source": [
        "# calculate correlation between user's cities and the number of actions to purchase the product\n",
        "df_users_cities = df_sessions_time.merge(df_users, on='user_id', how='inner')[[\"user_id\", \"timestamp_diff\", \"city\"]]\n",
        "column_1 = df_users_cities[\"timestamp_diff\"]\n",
        "column_2 = df_users_cities[\"city\"].astype('category').cat.codes\n",
        "correlation = column_1.corr(column_2)\n",
        "correlation"
      ],
      "metadata": {
        "colab": {
          "base_uri": "https://localhost:8080/"
        },
        "id": "VfVgjf0hLib3",
        "outputId": "9e23a355-e9d3-4173-dc1b-2923a623b785"
      },
      "execution_count": 69,
      "outputs": [
        {
          "output_type": "execute_result",
          "data": {
            "text/plain": [
              "0.03489690620419504"
            ]
          },
          "metadata": {},
          "execution_count": 69
        }
      ]
    },
    {
      "cell_type": "markdown",
      "source": [
        "Correlation between the customer's city and the number of purchases is very low"
      ],
      "metadata": {
        "id": "dnWOcYtSJdjL"
      }
    },
    {
      "cell_type": "code",
      "source": [
        "# calculate correlation between the total time of browsing the website and the number of actions to purchase the product\n",
        "input_data = pd.concat([df_sessions_time[\"timestamp_diff\"], df_buy[\"purchases_num\"]], axis=1)\n",
        "column_1 = input_data[\"timestamp_diff\"]\n",
        "column_2 = input_data[\"purchases_num\"]\n",
        "correlation = column_1.corr(column_2)\n",
        "correlation"
      ],
      "metadata": {
        "colab": {
          "base_uri": "https://localhost:8080/"
        },
        "id": "V1xYM3UcHsP6",
        "outputId": "ff44a423-e94b-4e89-c7c4-8f2e2e4ffd47"
      },
      "execution_count": 70,
      "outputs": [
        {
          "output_type": "execute_result",
          "data": {
            "text/plain": [
              "0.956069214253588"
            ]
          },
          "metadata": {},
          "execution_count": 70
        }
      ]
    },
    {
      "cell_type": "markdown",
      "source": [
        "But correlation between the time spent on the site and the number of purchases is big"
      ],
      "metadata": {
        "id": "AhFECGYiJsC8"
      }
    },
    {
      "cell_type": "code",
      "source": [
        "# the amount of time spent on the site can be calculated in different ways (total time of browsing, number of sessions, number of 'view' event type), but the results of the correlation will be similar\n",
        "sessions_number = users_sessions.groupby('user_id').session_id.nunique()\n",
        "view = df_sessions.groupby('user_id')['event_type'].apply(lambda x: x[x == 'VIEW_PRODUCT'].count()) # VIEW_PRODUCT\n",
        "df_view = view.to_frame().reset_index()\n",
        "correlation = view.corr(buy)\n",
        "print(correlation)\n",
        "correlation = sessions_number.corr(buy)\n",
        "print(correlation)"
      ],
      "metadata": {
        "colab": {
          "base_uri": "https://localhost:8080/"
        },
        "id": "YBpG1KISiivk",
        "outputId": "a0b75adc-0d75-4531-f2cc-8a515ade1e64"
      },
      "execution_count": 71,
      "outputs": [
        {
          "output_type": "stream",
          "name": "stdout",
          "text": [
            "0.9530224147419194\n",
            "0.946746793620433\n"
          ]
        }
      ]
    },
    {
      "cell_type": "code",
      "source": [
        "# generation of random data (10 examples) similar to the tested ones and checking their correlation\n",
        "random_examples_number = 20\n",
        "max_sessions_time = input_data[\"timestamp_diff\"].max()\n",
        "max_buy = input_data[\"purchases_num\"].max()\n",
        "min_sessions_time = input_data[\"timestamp_diff\"].min()\n",
        "min_buy = input_data[\"purchases_num\"].min()\n",
        "input_data_len = len(input_data)\n",
        "random_data_correlations = []\n",
        "for _ in range(random_examples_number):\n",
        "  data_values = []\n",
        "  for _ in range(input_data_len):\n",
        "    sessions_time_value = random.randint(min_sessions_time, max_sessions_time)\n",
        "    buy_value = random.randint(min_buy, max_buy)\n",
        "    data_values.append([sessions_time_value, buy_value])\n",
        "  df_random_examples = pd.DataFrame(data_values, columns = ['timestamp_diff', 'purchases_num'])\n",
        "  column_1 = df_random_examples[\"timestamp_diff\"]\n",
        "  column_2 = df_random_examples[\"purchases_num\"]\n",
        "  correlation = column_1.corr(column_2)\n",
        "  random_data_correlations.append(correlation)\n",
        "print(max([abs(i) for i in random_data_correlations]))"
      ],
      "metadata": {
        "colab": {
          "base_uri": "https://localhost:8080/"
        },
        "id": "HOhSYFWMDeWp",
        "outputId": "a567ab76-7330-47db-cfa8-7e1d25cf0f69"
      },
      "execution_count": 72,
      "outputs": [
        {
          "output_type": "stream",
          "name": "stdout",
          "text": [
            "0.1406038564779797\n"
          ]
        }
      ]
    },
    {
      "cell_type": "markdown",
      "source": [
        "The correlation of simular randomly generated data is much less, which means that the found dependence can be used for prediction"
      ],
      "metadata": {
        "id": "Mr4YqHliCc6R"
      }
    },
    {
      "cell_type": "code",
      "source": [
        "plt.figure(figsize=(15,5))\n",
        "plt.subplot(121)\n",
        "sns.distplot(input_data[\"timestamp_diff\"].values, bins=50)\n",
        "plt.title('Distribution of session duration\\n',fontsize=15)\n",
        "plt.xlabel('Value'); plt.ylabel('Frequency');\n",
        "\n",
        "plt.subplot(122)\n",
        "sns.boxplot(input_data[\"timestamp_diff\"].values)\n",
        "plt.title('Distribution of session duration\\n',fontsize=15)\n",
        "plt.xlabel('Value'); "
      ],
      "metadata": {
        "colab": {
          "base_uri": "https://localhost:8080/",
          "height": 464
        },
        "id": "PVwitxUnI9AI",
        "outputId": "2d3d5abf-3bf8-4a53-ab6d-e0f1e37a46f0"
      },
      "execution_count": 73,
      "outputs": [
        {
          "output_type": "stream",
          "name": "stderr",
          "text": [
            "/usr/local/lib/python3.7/dist-packages/seaborn/distributions.py:2619: FutureWarning: `distplot` is a deprecated function and will be removed in a future version. Please adapt your code to use either `displot` (a figure-level function with similar flexibility) or `histplot` (an axes-level function for histograms).\n",
            "  warnings.warn(msg, FutureWarning)\n",
            "/usr/local/lib/python3.7/dist-packages/seaborn/_decorators.py:43: FutureWarning: Pass the following variable as a keyword arg: x. From version 0.12, the only valid positional argument will be `data`, and passing other arguments without an explicit keyword will result in an error or misinterpretation.\n",
            "  FutureWarning\n"
          ]
        },
        {
          "output_type": "display_data",
          "data": {
            "text/plain": [
              "<Figure size 1080x360 with 2 Axes>"
            ],
            "image/png": "[encoded data removed]"
          },
          "metadata": {}
        }
      ]
    },
    {
      "cell_type": "code",
      "source": [
        "plt.figure(figsize=(15,5))\n",
        "plt.subplot(121)\n",
        "sns.distplot(input_data[\"purchases_num\"].values, bins=50)\n",
        "plt.title('Distribution of number of purchases\\n',fontsize=15)\n",
        "plt.xlabel('Value'); plt.ylabel('Frequency');\n",
        "\n",
        "plt.subplot(122)\n",
        "sns.boxplot(input_data[\"purchases_num\"].values)\n",
        "plt.title('Distribution of number of purchases\\n',fontsize=15)\n",
        "plt.xlabel('Value'); "
      ],
      "metadata": {
        "colab": {
          "base_uri": "https://localhost:8080/",
          "height": 464
        },
        "id": "6MWgKGKPJTcU",
        "outputId": "adc363bb-2737-406f-bfca-ca4939375241"
      },
      "execution_count": 74,
      "outputs": [
        {
          "output_type": "stream",
          "name": "stderr",
          "text": [
            "/usr/local/lib/python3.7/dist-packages/seaborn/distributions.py:2619: FutureWarning: `distplot` is a deprecated function and will be removed in a future version. Please adapt your code to use either `displot` (a figure-level function with similar flexibility) or `histplot` (an axes-level function for histograms).\n",
            "  warnings.warn(msg, FutureWarning)\n",
            "/usr/local/lib/python3.7/dist-packages/seaborn/_decorators.py:43: FutureWarning: Pass the following variable as a keyword arg: x. From version 0.12, the only valid positional argument will be `data`, and passing other arguments without an explicit keyword will result in an error or misinterpretation.\n",
            "  FutureWarning\n"
          ]
        },
        {
          "output_type": "display_data",
          "data": {
            "text/plain": [
              "<Figure size 1080x360 with 2 Axes>"
            ],
            "image/png": "[encoded data removed]"
          },
          "metadata": {}
        }
      ]
    },
    {
      "cell_type": "markdown",
      "source": [
        "The distribution plots show that there are no outliers in the variables, so there is no need to remove outliers"
      ],
      "metadata": {
        "id": "0_cYSICcE1Jb"
      }
    },
    {
      "cell_type": "markdown",
      "source": [
        "Normalize the target variable for better stability of the training process. Normalization will also help in solving the business problem, for example, we can accept that if the target variable value is above 0.5, the client needs a consultation, so this way we can easily rank customers"
      ],
      "metadata": {
        "id": "pA4rwZ17FpzR"
      }
    },
    {
      "cell_type": "code",
      "source": [
        "input_data[\"normalized_purchases_num\"] = input_data[\"purchases_num\"] /input_data[\"purchases_num\"].abs().max()"
      ],
      "metadata": {
        "id": "qm21z2T9d_pj"
      },
      "execution_count": 75,
      "outputs": []
    },
    {
      "cell_type": "code",
      "source": [
        "X = input_data.timestamp_diff.to_numpy().reshape(-1, 1)\n",
        "y = input_data.normalized_purchases_num.to_numpy()"
      ],
      "metadata": {
        "id": "-IpwHjDOdkni"
      },
      "execution_count": 76,
      "outputs": []
    },
    {
      "cell_type": "code",
      "source": [
        "# split data to train and test sets\n",
        "from sklearn.model_selection import train_test_split\n",
        "X_train, X_test, y_train, y_test = train_test_split(X, y, test_size=0.20, shuffle=True, random_state=2)"
      ],
      "metadata": {
        "id": "HYadZ6THcYzh"
      },
      "execution_count": 77,
      "outputs": []
    },
    {
      "cell_type": "markdown",
      "source": [
        "Since there is a linear relationship in the data, we can use linear regression for prediction"
      ],
      "metadata": {
        "id": "M3lb4bQvHK_A"
      }
    },
    {
      "cell_type": "code",
      "source": [
        "import tensorflow as tf\n",
        "from tensorflow.keras import Sequential\n",
        "from tensorflow.keras.layers import Dense\n",
        "\n",
        "#built the neural network architecture\n",
        "model = Sequential()\n",
        "model.add(Dense(40, input_dim=1, activation='relu'))\n",
        "model.add(Dense(1, activation='linear'))"
      ],
      "metadata": {
        "id": "XwG05ZCxgfYx"
      },
      "execution_count": 78,
      "outputs": []
    },
    {
      "cell_type": "code",
      "source": [
        "model.compile(loss='mse', optimizer='adam', metrics=['mse', 'mae'])"
      ],
      "metadata": {
        "id": "QcbGbjU6gqYf"
      },
      "execution_count": 79,
      "outputs": []
    },
    {
      "cell_type": "code",
      "source": [
        "history = model.fit(X_train, y_train, epochs=80, validation_split=0.2)"
      ],
      "metadata": {
        "colab": {
          "base_uri": "https://localhost:8080/"
        },
        "id": "gDDudoXzgwK9",
        "outputId": "27b4bf22-ec4c-4e00-a436-b92fdcd55c66"
      },
      "execution_count": 80,
      "outputs": [
        {
          "output_type": "stream",
          "name": "stdout",
          "text": [
            "Epoch 1/80\n",
            "4/4 [==============================] - 1s 59ms/step - loss: 2421394.0000 - mse: 2421394.0000 - mae: 1283.1067 - val_loss: 707271.2500 - val_mse: 707271.2500 - val_mae: 722.0436\n",
            "Epoch 2/80\n",
            "4/4 [==============================] - 0s 9ms/step - loss: 296488.6875 - mse: 296488.6875 - mae: 397.9936 - val_loss: 5192.8750 - val_mse: 5192.8750 - val_mae: 61.8905\n",
            "Epoch 3/80\n",
            "4/4 [==============================] - 0s 10ms/step - loss: 120252.0703 - mse: 120252.0703 - mae: 255.9117 - val_loss: 347587.0000 - val_mse: 347587.0000 - val_mae: 506.2103\n",
            "Epoch 4/80\n",
            "4/4 [==============================] - 0s 17ms/step - loss: 409727.6562 - mse: 409727.6562 - mae: 540.0569 - val_loss: 379540.5938 - val_mse: 379540.5938 - val_mae: 528.9657\n",
            "Epoch 5/80\n",
            "4/4 [==============================] - 0s 9ms/step - loss: 294016.9062 - mse: 294016.9062 - mae: 451.1071 - val_loss: 106726.7188 - val_mse: 106726.7188 - val_mae: 280.5107\n",
            "Epoch 6/80\n",
            "4/4 [==============================] - 0s 16ms/step - loss: 49314.4922 - mse: 49314.4922 - mae: 162.5697 - val_loss: 850.2341 - val_mse: 850.2341 - val_mae: 25.0154\n",
            "Epoch 7/80\n",
            "4/4 [==============================] - 0s 10ms/step - loss: 22452.1328 - mse: 22452.1328 - mae: 111.8285 - val_loss: 65564.2969 - val_mse: 65564.2969 - val_mae: 219.8249\n",
            "Epoch 8/80\n",
            "4/4 [==============================] - 0s 9ms/step - loss: 80105.6250 - mse: 80105.6250 - mae: 238.1574 - val_loss: 73736.4297 - val_mse: 73736.4297 - val_mae: 233.1237\n",
            "Epoch 9/80\n",
            "4/4 [==============================] - 0s 11ms/step - loss: 54260.1016 - mse: 54260.1016 - mae: 194.6315 - val_loss: 17283.4727 - val_mse: 17283.4727 - val_mae: 112.8552\n",
            "Epoch 10/80\n",
            "4/4 [==============================] - 0s 12ms/step - loss: 6841.7617 - mse: 6841.7617 - mae: 56.1482 - val_loss: 1829.2087 - val_mse: 1829.2087 - val_mae: 36.7406\n",
            "Epoch 11/80\n",
            "4/4 [==============================] - 0s 11ms/step - loss: 8286.7031 - mse: 8286.7031 - mae: 72.6125 - val_loss: 18315.4180 - val_mse: 18315.4180 - val_mae: 116.2156\n",
            "Epoch 12/80\n",
            "4/4 [==============================] - 0s 10ms/step - loss: 18900.4629 - mse: 18900.4629 - mae: 115.7931 - val_loss: 12894.9443 - val_mse: 12894.9443 - val_mae: 97.5170\n",
            "Epoch 13/80\n",
            "4/4 [==============================] - 0s 10ms/step - loss: 8050.6348 - mse: 8050.6348 - mae: 70.5391 - val_loss: 433.9227 - val_mse: 433.9227 - val_mae: 17.9046\n",
            "Epoch 14/80\n",
            "4/4 [==============================] - 0s 11ms/step - loss: 646.8353 - mse: 646.8353 - mae: 18.0497 - val_loss: 2788.6128 - val_mse: 2788.6128 - val_mae: 45.3195\n",
            "Epoch 15/80\n",
            "4/4 [==============================] - 0s 10ms/step - loss: 4009.5981 - mse: 4009.5981 - mae: 53.2721 - val_loss: 4219.8701 - val_mse: 4219.8701 - val_mae: 55.7541\n",
            "Epoch 16/80\n",
            "4/4 [==============================] - 0s 10ms/step - loss: 2997.9656 - mse: 2997.9656 - mae: 45.5293 - val_loss: 760.1514 - val_mse: 760.1514 - val_mae: 23.6520\n",
            "Epoch 17/80\n",
            "4/4 [==============================] - 0s 10ms/step - loss: 251.4750 - mse: 251.4750 - mae: 11.3152 - val_loss: 331.5803 - val_mse: 331.5803 - val_mae: 15.6538\n",
            "Epoch 18/80\n",
            "4/4 [==============================] - 0s 11ms/step - loss: 770.0909 - mse: 770.0909 - mae: 23.0349 - val_loss: 1212.3201 - val_mse: 1212.3201 - val_mae: 29.9142\n",
            "Epoch 19/80\n",
            "4/4 [==============================] - 0s 11ms/step - loss: 996.7289 - mse: 996.7289 - mae: 26.3435 - val_loss: 370.5455 - val_mse: 370.5455 - val_mae: 16.5470\n",
            "Epoch 20/80\n",
            "4/4 [==============================] - 0s 10ms/step - loss: 176.8279 - mse: 176.8279 - mae: 9.1738 - val_loss: 59.9105 - val_mse: 59.9105 - val_mae: 6.6255\n",
            "Epoch 21/80\n",
            "4/4 [==============================] - 0s 10ms/step - loss: 201.3989 - mse: 201.3989 - mae: 11.5575 - val_loss: 385.1520 - val_mse: 385.1520 - val_mae: 16.8300\n",
            "Epoch 22/80\n",
            "4/4 [==============================] - 0s 10ms/step - loss: 336.4838 - mse: 336.4838 - mae: 15.2545 - val_loss: 126.9058 - val_mse: 126.9058 - val_mae: 9.6522\n",
            "Epoch 23/80\n",
            "4/4 [==============================] - 0s 10ms/step - loss: 52.7621 - mse: 52.7621 - mae: 4.9607 - val_loss: 16.1629 - val_mse: 16.1629 - val_mae: 3.4708\n",
            "Epoch 24/80\n",
            "4/4 [==============================] - 0s 11ms/step - loss: 63.0086 - mse: 63.0086 - mae: 6.4286 - val_loss: 114.6667 - val_mse: 114.6667 - val_mae: 9.2133\n",
            "Epoch 25/80\n",
            "4/4 [==============================] - 0s 10ms/step - loss: 93.4908 - mse: 93.4908 - mae: 8.0605 - val_loss: 30.9000 - val_mse: 30.9000 - val_mae: 4.7919\n",
            "Epoch 26/80\n",
            "4/4 [==============================] - 0s 10ms/step - loss: 12.1245 - mse: 12.1245 - mae: 2.3833 - val_loss: 8.3384 - val_mse: 8.3384 - val_mae: 2.4586\n",
            "Epoch 27/80\n",
            "4/4 [==============================] - 0s 10ms/step - loss: 23.9110 - mse: 23.9110 - mae: 3.9561 - val_loss: 34.1884 - val_mse: 34.1884 - val_mae: 5.0000\n",
            "Epoch 28/80\n",
            "4/4 [==============================] - 0s 10ms/step - loss: 24.8879 - mse: 24.8879 - mae: 4.0949 - val_loss: 4.3265 - val_mse: 4.3265 - val_mae: 1.7648\n",
            "Epoch 29/80\n",
            "4/4 [==============================] - 0s 12ms/step - loss: 1.7700 - mse: 1.7700 - mae: 0.9895 - val_loss: 5.4633 - val_mse: 5.4633 - val_mae: 2.0254\n",
            "Epoch 30/80\n",
            "4/4 [==============================] - 0s 10ms/step - loss: 8.5530 - mse: 8.5530 - mae: 2.4755 - val_loss: 9.2265 - val_mse: 9.2265 - val_mae: 2.6267\n",
            "Epoch 31/80\n",
            "4/4 [==============================] - 0s 10ms/step - loss: 5.3461 - mse: 5.3461 - mae: 1.9433 - val_loss: 0.4844 - val_mse: 0.4844 - val_mae: 0.6132\n",
            "Epoch 32/80\n",
            "4/4 [==============================] - 0s 10ms/step - loss: 0.5527 - mse: 0.5527 - mae: 0.5392 - val_loss: 2.7786 - val_mse: 2.7786 - val_mae: 1.4098\n",
            "Epoch 33/80\n",
            "4/4 [==============================] - 0s 9ms/step - loss: 3.3238 - mse: 3.3238 - mae: 1.5213 - val_loss: 2.3689 - val_mse: 2.3689 - val_mae: 1.2998\n",
            "Epoch 34/80\n",
            "4/4 [==============================] - 0s 10ms/step - loss: 1.2666 - mse: 1.2666 - mae: 0.8243 - val_loss: 0.0167 - val_mse: 0.0167 - val_mae: 0.1089\n",
            "Epoch 35/80\n",
            "4/4 [==============================] - 0s 10ms/step - loss: 0.4492 - mse: 0.4492 - mae: 0.4992 - val_loss: 1.2125 - val_mse: 1.2125 - val_mae: 0.9626\n",
            "Epoch 36/80\n",
            "4/4 [==============================] - 0s 12ms/step - loss: 1.0356 - mse: 1.0356 - mae: 0.8618 - val_loss: 0.3344 - val_mse: 0.3344 - val_mae: 0.5114\n",
            "Epoch 37/80\n",
            "4/4 [==============================] - 0s 10ms/step - loss: 0.1100 - mse: 0.1100 - mae: 0.2445 - val_loss: 0.1176 - val_mse: 0.1176 - val_mae: 0.2707\n",
            "Epoch 38/80\n",
            "4/4 [==============================] - 0s 10ms/step - loss: 0.2509 - mse: 0.2509 - mae: 0.3962 - val_loss: 0.3108 - val_mse: 0.3108 - val_mae: 0.4559\n",
            "Epoch 39/80\n",
            "4/4 [==============================] - 0s 16ms/step - loss: 0.2020 - mse: 0.2020 - mae: 0.3441 - val_loss: 0.0164 - val_mse: 0.0164 - val_mae: 0.0970\n",
            "Epoch 40/80\n",
            "4/4 [==============================] - 0s 10ms/step - loss: 0.0317 - mse: 0.0317 - mae: 0.1384 - val_loss: 0.1099 - val_mse: 0.1099 - val_mae: 0.2958\n",
            "Epoch 41/80\n",
            "4/4 [==============================] - 0s 10ms/step - loss: 0.1162 - mse: 0.1162 - mae: 0.2965 - val_loss: 0.0689 - val_mse: 0.0689 - val_mae: 0.2341\n",
            "Epoch 42/80\n",
            "4/4 [==============================] - 0s 9ms/step - loss: 0.0297 - mse: 0.0297 - mae: 0.1348 - val_loss: 0.0127 - val_mse: 0.0127 - val_mae: 0.0858\n",
            "Epoch 43/80\n",
            "4/4 [==============================] - 0s 10ms/step - loss: 0.0329 - mse: 0.0329 - mae: 0.1305 - val_loss: 0.0448 - val_mse: 0.0448 - val_mae: 0.1627\n",
            "Epoch 44/80\n",
            "4/4 [==============================] - 0s 10ms/step - loss: 0.0356 - mse: 0.0356 - mae: 0.1352 - val_loss: 0.0078 - val_mse: 0.0078 - val_mae: 0.0715\n",
            "Epoch 45/80\n",
            "4/4 [==============================] - 0s 15ms/step - loss: 0.0082 - mse: 0.0082 - mae: 0.0716 - val_loss: 0.0200 - val_mse: 0.0200 - val_mae: 0.1210\n",
            "Epoch 46/80\n",
            "4/4 [==============================] - 0s 10ms/step - loss: 0.0207 - mse: 0.0207 - mae: 0.1194 - val_loss: 0.0150 - val_mse: 0.0150 - val_mae: 0.1022\n",
            "Epoch 47/80\n",
            "4/4 [==============================] - 0s 11ms/step - loss: 0.0098 - mse: 0.0098 - mae: 0.0774 - val_loss: 0.0069 - val_mse: 0.0069 - val_mae: 0.0694\n",
            "Epoch 48/80\n",
            "4/4 [==============================] - 0s 11ms/step - loss: 0.0097 - mse: 0.0097 - mae: 0.0721 - val_loss: 0.0096 - val_mse: 0.0096 - val_mae: 0.0759\n",
            "Epoch 49/80\n",
            "4/4 [==============================] - 0s 11ms/step - loss: 0.0102 - mse: 0.0102 - mae: 0.0738 - val_loss: 0.0065 - val_mse: 0.0065 - val_mae: 0.0678\n",
            "Epoch 50/80\n",
            "4/4 [==============================] - 0s 10ms/step - loss: 0.0080 - mse: 0.0080 - mae: 0.0689 - val_loss: 0.0084 - val_mse: 0.0084 - val_mae: 0.0790\n",
            "Epoch 51/80\n",
            "4/4 [==============================] - 0s 11ms/step - loss: 0.0085 - mse: 0.0085 - mae: 0.0746 - val_loss: 0.0073 - val_mse: 0.0073 - val_mae: 0.0746\n",
            "Epoch 52/80\n",
            "4/4 [==============================] - 0s 14ms/step - loss: 0.0072 - mse: 0.0072 - mae: 0.0663 - val_loss: 0.0065 - val_mse: 0.0065 - val_mae: 0.0679\n",
            "Epoch 53/80\n",
            "4/4 [==============================] - 0s 12ms/step - loss: 0.0078 - mse: 0.0078 - mae: 0.0663 - val_loss: 0.0067 - val_mse: 0.0067 - val_mae: 0.0686\n",
            "Epoch 54/80\n",
            "4/4 [==============================] - 0s 10ms/step - loss: 0.0077 - mse: 0.0077 - mae: 0.0661 - val_loss: 0.0066 - val_mse: 0.0066 - val_mae: 0.0694\n",
            "Epoch 55/80\n",
            "4/4 [==============================] - 0s 10ms/step - loss: 0.0076 - mse: 0.0076 - mae: 0.0681 - val_loss: 0.0072 - val_mse: 0.0072 - val_mae: 0.0744\n",
            "Epoch 56/80\n",
            "4/4 [==============================] - 0s 10ms/step - loss: 0.0077 - mse: 0.0077 - mae: 0.0690 - val_loss: 0.0068 - val_mse: 0.0068 - val_mae: 0.0716\n",
            "Epoch 57/80\n",
            "4/4 [==============================] - 0s 10ms/step - loss: 0.0075 - mse: 0.0075 - mae: 0.0664 - val_loss: 0.0065 - val_mse: 0.0065 - val_mae: 0.0679\n",
            "Epoch 58/80\n",
            "4/4 [==============================] - 0s 10ms/step - loss: 0.0076 - mse: 0.0076 - mae: 0.0658 - val_loss: 0.0065 - val_mse: 0.0065 - val_mae: 0.0679\n",
            "Epoch 59/80\n",
            "4/4 [==============================] - 0s 10ms/step - loss: 0.0074 - mse: 0.0074 - mae: 0.0657 - val_loss: 0.0067 - val_mse: 0.0067 - val_mae: 0.0704\n",
            "Epoch 60/80\n",
            "4/4 [==============================] - 0s 10ms/step - loss: 0.0076 - mse: 0.0076 - mae: 0.0676 - val_loss: 0.0071 - val_mse: 0.0071 - val_mae: 0.0738\n",
            "Epoch 61/80\n",
            "4/4 [==============================] - 0s 10ms/step - loss: 0.0075 - mse: 0.0075 - mae: 0.0674 - val_loss: 0.0066 - val_mse: 0.0066 - val_mae: 0.0688\n",
            "Epoch 62/80\n",
            "4/4 [==============================] - 0s 10ms/step - loss: 0.0078 - mse: 0.0078 - mae: 0.0668 - val_loss: 0.0066 - val_mse: 0.0066 - val_mae: 0.0681\n",
            "Epoch 63/80\n",
            "4/4 [==============================] - 0s 11ms/step - loss: 0.0075 - mse: 0.0075 - mae: 0.0648 - val_loss: 0.0067 - val_mse: 0.0067 - val_mae: 0.0704\n",
            "Epoch 64/80\n",
            "4/4 [==============================] - 0s 11ms/step - loss: 0.0075 - mse: 0.0075 - mae: 0.0670 - val_loss: 0.0069 - val_mse: 0.0069 - val_mae: 0.0720\n",
            "Epoch 65/80\n",
            "4/4 [==============================] - 0s 10ms/step - loss: 0.0075 - mse: 0.0075 - mae: 0.0671 - val_loss: 0.0066 - val_mse: 0.0066 - val_mae: 0.0697\n",
            "Epoch 66/80\n",
            "4/4 [==============================] - 0s 21ms/step - loss: 0.0074 - mse: 0.0074 - mae: 0.0659 - val_loss: 0.0065 - val_mse: 0.0065 - val_mae: 0.0687\n",
            "Epoch 67/80\n",
            "4/4 [==============================] - 0s 10ms/step - loss: 0.0074 - mse: 0.0074 - mae: 0.0659 - val_loss: 0.0065 - val_mse: 0.0065 - val_mae: 0.0681\n",
            "Epoch 68/80\n",
            "4/4 [==============================] - 0s 10ms/step - loss: 0.0074 - mse: 0.0074 - mae: 0.0657 - val_loss: 0.0065 - val_mse: 0.0065 - val_mae: 0.0684\n",
            "Epoch 69/80\n",
            "4/4 [==============================] - 0s 10ms/step - loss: 0.0077 - mse: 0.0077 - mae: 0.0673 - val_loss: 0.0069 - val_mse: 0.0069 - val_mae: 0.0722\n",
            "Epoch 70/80\n",
            "4/4 [==============================] - 0s 10ms/step - loss: 0.0074 - mse: 0.0074 - mae: 0.0669 - val_loss: 0.0066 - val_mse: 0.0066 - val_mae: 0.0692\n",
            "Epoch 71/80\n",
            "4/4 [==============================] - 0s 10ms/step - loss: 0.0074 - mse: 0.0074 - mae: 0.0659 - val_loss: 0.0065 - val_mse: 0.0065 - val_mae: 0.0682\n",
            "Epoch 72/80\n",
            "4/4 [==============================] - 0s 13ms/step - loss: 0.0076 - mse: 0.0076 - mae: 0.0662 - val_loss: 0.0065 - val_mse: 0.0065 - val_mae: 0.0676\n",
            "Epoch 73/80\n",
            "4/4 [==============================] - 0s 11ms/step - loss: 0.0075 - mse: 0.0075 - mae: 0.0664 - val_loss: 0.0067 - val_mse: 0.0067 - val_mae: 0.0709\n",
            "Epoch 74/80\n",
            "4/4 [==============================] - 0s 13ms/step - loss: 0.0075 - mse: 0.0075 - mae: 0.0667 - val_loss: 0.0068 - val_mse: 0.0068 - val_mae: 0.0719\n",
            "Epoch 75/80\n",
            "4/4 [==============================] - 0s 10ms/step - loss: 0.0075 - mse: 0.0075 - mae: 0.0668 - val_loss: 0.0065 - val_mse: 0.0065 - val_mae: 0.0686\n",
            "Epoch 76/80\n",
            "4/4 [==============================] - 0s 13ms/step - loss: 0.0074 - mse: 0.0074 - mae: 0.0660 - val_loss: 0.0065 - val_mse: 0.0065 - val_mae: 0.0688\n",
            "Epoch 77/80\n",
            "4/4 [==============================] - 0s 10ms/step - loss: 0.0074 - mse: 0.0074 - mae: 0.0660 - val_loss: 0.0066 - val_mse: 0.0066 - val_mae: 0.0695\n",
            "Epoch 78/80\n",
            "4/4 [==============================] - 0s 11ms/step - loss: 0.0074 - mse: 0.0074 - mae: 0.0659 - val_loss: 0.0066 - val_mse: 0.0066 - val_mae: 0.0691\n",
            "Epoch 79/80\n",
            "4/4 [==============================] - 0s 14ms/step - loss: 0.0074 - mse: 0.0074 - mae: 0.0659 - val_loss: 0.0065 - val_mse: 0.0065 - val_mae: 0.0685\n",
            "Epoch 80/80\n",
            "4/4 [==============================] - 0s 11ms/step - loss: 0.0074 - mse: 0.0074 - mae: 0.0661 - val_loss: 0.0067 - val_mse: 0.0067 - val_mae: 0.0702\n"
          ]
        }
      ]
    },
    {
      "cell_type": "code",
      "source": [
        "# plot the loss and validation loss of the dataset\n",
        "history_df = pd.DataFrame(history.history)\n",
        "plt.title('Training history')\n",
        "plt.plot(history_df['loss'], label='loss')\n",
        "plt.plot(history_df['val_loss'], label='validation_loss')\n",
        "plt.legend()"
      ],
      "metadata": {
        "colab": {
          "base_uri": "https://localhost:8080/",
          "height": 301
        },
        "id": "hl9vRFqvg28M",
        "outputId": "50b9706b-8585-4636-ec79-0125e04405e5"
      },
      "execution_count": 81,
      "outputs": [
        {
          "output_type": "execute_result",
          "data": {
            "text/plain": [
              "<matplotlib.legend.Legend at 0x7ff977ebb450>"
            ]
          },
          "metadata": {},
          "execution_count": 81
        },
        {
          "output_type": "display_data",
          "data": {
            "text/plain": [
              "<Figure size 432x288 with 1 Axes>"
            ],
            "image/png": "[encoded data removed]"
          },
          "metadata": {}
        }
      ]
    },
    {
      "cell_type": "code",
      "source": [
        "# evaluate the model\n",
        "model.evaluate(X_test, y_test, batch_size=128)"
      ],
      "metadata": {
        "colab": {
          "base_uri": "https://localhost:8080/"
        },
        "id": "iUOE1-rtg7WL",
        "outputId": "2605017a-584a-4512-d76b-217377aa1349"
      },
      "execution_count": 82,
      "outputs": [
        {
          "output_type": "stream",
          "name": "stdout",
          "text": [
            "1/1 [==============================] - 0s 121ms/step - loss: 0.0052 - mse: 0.0052 - mae: 0.0537\n"
          ]
        },
        {
          "output_type": "execute_result",
          "data": {
            "text/plain": [
              "[0.005216642282903194, 0.005216642282903194, 0.053709857165813446]"
            ]
          },
          "metadata": {},
          "execution_count": 82
        }
      ]
    },
    {
      "cell_type": "code",
      "source": [
        "y_pred = model.predict(X_test).flatten()\n",
        "plt.title('True and predicted values')\n",
        "plt.plot(X_test.flatten(), y_test, \"o\", color=\"red\", label='True')\n",
        "plt.plot(X_test.flatten(), y_pred, \"o\", color=\"blue\", label='Prediction')\n",
        "plt.legend()"
      ],
      "metadata": {
        "colab": {
          "base_uri": "https://localhost:8080/",
          "height": 319
        },
        "id": "m1XwxkJEg_oZ",
        "outputId": "7f6a0aed-8781-4ce6-cd8b-036539867a74"
      },
      "execution_count": 83,
      "outputs": [
        {
          "output_type": "stream",
          "name": "stdout",
          "text": [
            "2/2 [==============================] - 0s 5ms/step\n"
          ]
        },
        {
          "output_type": "execute_result",
          "data": {
            "text/plain": [
              "<matplotlib.legend.Legend at 0x7ff978006c10>"
            ]
          },
          "metadata": {},
          "execution_count": 83
        },
        {
          "output_type": "display_data",
          "data": {
            "text/plain": [
              "<Figure size 432x288 with 1 Axes>"
            ],
            "image/png": "[encoded data removed]"
          },
          "metadata": {}
        }
      ]
    },
    {
      "cell_type": "markdown",
      "source": [
        "From the values ​​of the metrics, we can say that the constructed model performed well. Also from the graph above we can see that the model has caught the dependence in the data"
      ],
      "metadata": {
        "id": "xnvhzflnH39_"
      }
    },
    {
      "cell_type": "markdown",
      "source": [
        "Next, we can save the model and its weights and use them for making prediction directly in the business environment"
      ],
      "metadata": {
        "id": "i2dG6Nv9KUuj"
      }
    }
  ]
}